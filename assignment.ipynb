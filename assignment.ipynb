{
  "cells": [
    {
      "cell_type": "markdown",
      "metadata": {
        "id": "view-in-github",
        "colab_type": "text"
      },
      "source": [
        "<a href=\"https://colab.research.google.com/github/applied-science-2022/hamida/blob/main/assignment.ipynb\" target=\"_parent\"><img src=\"https://colab.research.google.com/assets/colab-badge.svg\" alt=\"Open In Colab\"/></a>"
      ]
    },
    {
      "cell_type": "code",
      "execution_count": 15,
      "metadata": {
        "id": "tRgI0HFF_QZL",
        "colab": {
          "base_uri": "https://localhost:8080/"
        },
        "outputId": "76be4fbb-271c-4473-9681-56ec21054f7e"
      },
      "outputs": [
        {
          "output_type": "stream",
          "name": "stdout",
          "text": [
            "Looking in indexes: https://pypi.org/simple, https://us-python.pkg.dev/colab-wheels/public/simple/\n",
            "Requirement already satisfied: streamlit==1.14.0 in /usr/local/lib/python3.8/dist-packages (1.14.0)\n",
            "Requirement already satisfied: pillow>=6.2.0 in /usr/local/lib/python3.8/dist-packages (from streamlit==1.14.0) (7.1.2)\n",
            "Requirement already satisfied: toml in /usr/local/lib/python3.8/dist-packages (from streamlit==1.14.0) (0.10.2)\n",
            "Requirement already satisfied: watchdog in /usr/local/lib/python3.8/dist-packages (from streamlit==1.14.0) (2.2.0)\n",
            "Requirement already satisfied: pyarrow>=4.0 in /usr/local/lib/python3.8/dist-packages (from streamlit==1.14.0) (9.0.0)\n",
            "Requirement already satisfied: packaging>=14.1 in /usr/local/lib/python3.8/dist-packages (from streamlit==1.14.0) (21.3)\n",
            "Requirement already satisfied: validators>=0.2 in /usr/local/lib/python3.8/dist-packages (from streamlit==1.14.0) (0.20.0)\n",
            "Requirement already satisfied: pandas>=0.21.0 in /usr/local/lib/python3.8/dist-packages (from streamlit==1.14.0) (1.3.5)\n",
            "Requirement already satisfied: pympler>=0.9 in /usr/local/lib/python3.8/dist-packages (from streamlit==1.14.0) (1.0.1)\n",
            "Requirement already satisfied: tornado>=5.0 in /usr/local/lib/python3.8/dist-packages (from streamlit==1.14.0) (6.0.4)\n",
            "Requirement already satisfied: numpy in /usr/local/lib/python3.8/dist-packages (from streamlit==1.14.0) (1.21.6)\n",
            "Requirement already satisfied: rich>=10.11.0 in /usr/local/lib/python3.8/dist-packages (from streamlit==1.14.0) (12.6.0)\n",
            "Requirement already satisfied: blinker>=1.0.0 in /usr/local/lib/python3.8/dist-packages (from streamlit==1.14.0) (1.5)\n",
            "Requirement already satisfied: altair>=3.2.0 in /usr/local/lib/python3.8/dist-packages (from streamlit==1.14.0) (4.2.0)\n",
            "Requirement already satisfied: importlib-metadata>=1.4 in /usr/local/lib/python3.8/dist-packages (from streamlit==1.14.0) (5.1.0)\n",
            "Requirement already satisfied: python-dateutil in /usr/local/lib/python3.8/dist-packages (from streamlit==1.14.0) (2.8.2)\n",
            "Requirement already satisfied: click>=7.0 in /usr/local/lib/python3.8/dist-packages (from streamlit==1.14.0) (7.1.2)\n",
            "Requirement already satisfied: pydeck>=0.1.dev5 in /usr/local/lib/python3.8/dist-packages (from streamlit==1.14.0) (0.8.0)\n",
            "Requirement already satisfied: cachetools>=4.0 in /usr/local/lib/python3.8/dist-packages (from streamlit==1.14.0) (5.2.0)\n",
            "Requirement already satisfied: requests>=2.4 in /usr/local/lib/python3.8/dist-packages (from streamlit==1.14.0) (2.23.0)\n",
            "Requirement already satisfied: protobuf<4,>=3.12 in /usr/local/lib/python3.8/dist-packages (from streamlit==1.14.0) (3.19.6)\n",
            "Requirement already satisfied: semver in /usr/local/lib/python3.8/dist-packages (from streamlit==1.14.0) (2.13.0)\n",
            "Requirement already satisfied: gitpython!=3.1.19 in /usr/local/lib/python3.8/dist-packages (from streamlit==1.14.0) (3.1.29)\n",
            "Requirement already satisfied: typing-extensions>=3.10.0.0 in /usr/local/lib/python3.8/dist-packages (from streamlit==1.14.0) (4.4.0)\n",
            "Requirement already satisfied: tzlocal>=1.1 in /usr/local/lib/python3.8/dist-packages (from streamlit==1.14.0) (1.5.1)\n",
            "Requirement already satisfied: toolz in /usr/local/lib/python3.8/dist-packages (from altair>=3.2.0->streamlit==1.14.0) (0.12.0)\n",
            "Requirement already satisfied: jsonschema>=3.0 in /usr/local/lib/python3.8/dist-packages (from altair>=3.2.0->streamlit==1.14.0) (4.3.3)\n",
            "Requirement already satisfied: jinja2 in /usr/local/lib/python3.8/dist-packages (from altair>=3.2.0->streamlit==1.14.0) (2.11.3)\n",
            "Requirement already satisfied: entrypoints in /usr/local/lib/python3.8/dist-packages (from altair>=3.2.0->streamlit==1.14.0) (0.4)\n",
            "Requirement already satisfied: gitdb<5,>=4.0.1 in /usr/local/lib/python3.8/dist-packages (from gitpython!=3.1.19->streamlit==1.14.0) (4.0.10)\n",
            "Requirement already satisfied: smmap<6,>=3.0.1 in /usr/local/lib/python3.8/dist-packages (from gitdb<5,>=4.0.1->gitpython!=3.1.19->streamlit==1.14.0) (5.0.0)\n",
            "Requirement already satisfied: zipp>=0.5 in /usr/local/lib/python3.8/dist-packages (from importlib-metadata>=1.4->streamlit==1.14.0) (3.11.0)\n",
            "Requirement already satisfied: attrs>=17.4.0 in /usr/local/lib/python3.8/dist-packages (from jsonschema>=3.0->altair>=3.2.0->streamlit==1.14.0) (22.1.0)\n",
            "Requirement already satisfied: importlib-resources>=1.4.0 in /usr/local/lib/python3.8/dist-packages (from jsonschema>=3.0->altair>=3.2.0->streamlit==1.14.0) (5.10.1)\n",
            "Requirement already satisfied: pyrsistent!=0.17.0,!=0.17.1,!=0.17.2,>=0.14.0 in /usr/local/lib/python3.8/dist-packages (from jsonschema>=3.0->altair>=3.2.0->streamlit==1.14.0) (0.19.2)\n",
            "Requirement already satisfied: pyparsing!=3.0.5,>=2.0.2 in /usr/local/lib/python3.8/dist-packages (from packaging>=14.1->streamlit==1.14.0) (3.0.9)\n",
            "Requirement already satisfied: pytz>=2017.3 in /usr/local/lib/python3.8/dist-packages (from pandas>=0.21.0->streamlit==1.14.0) (2022.6)\n",
            "Requirement already satisfied: MarkupSafe>=0.23 in /usr/local/lib/python3.8/dist-packages (from jinja2->altair>=3.2.0->streamlit==1.14.0) (2.0.1)\n",
            "Requirement already satisfied: six>=1.5 in /usr/local/lib/python3.8/dist-packages (from python-dateutil->streamlit==1.14.0) (1.15.0)\n",
            "Requirement already satisfied: urllib3!=1.25.0,!=1.25.1,<1.26,>=1.21.1 in /usr/local/lib/python3.8/dist-packages (from requests>=2.4->streamlit==1.14.0) (1.24.3)\n",
            "Requirement already satisfied: idna<3,>=2.5 in /usr/local/lib/python3.8/dist-packages (from requests>=2.4->streamlit==1.14.0) (2.10)\n",
            "Requirement already satisfied: certifi>=2017.4.17 in /usr/local/lib/python3.8/dist-packages (from requests>=2.4->streamlit==1.14.0) (2022.12.7)\n",
            "Requirement already satisfied: chardet<4,>=3.0.2 in /usr/local/lib/python3.8/dist-packages (from requests>=2.4->streamlit==1.14.0) (3.0.4)\n",
            "Requirement already satisfied: commonmark<0.10.0,>=0.9.0 in /usr/local/lib/python3.8/dist-packages (from rich>=10.11.0->streamlit==1.14.0) (0.9.1)\n",
            "Requirement already satisfied: pygments<3.0.0,>=2.6.0 in /usr/local/lib/python3.8/dist-packages (from rich>=10.11.0->streamlit==1.14.0) (2.6.1)\n",
            "Requirement already satisfied: decorator>=3.4.0 in /usr/local/lib/python3.8/dist-packages (from validators>=0.2->streamlit==1.14.0) (4.4.2)\n"
          ]
        }
      ],
      "source": [
        "!pip install streamlit==1.14.0"
      ]
    },
    {
      "cell_type": "code",
      "source": [
        "!pip install baseline"
      ],
      "metadata": {
        "colab": {
          "base_uri": "https://localhost:8080/"
        },
        "id": "sNlvp8ex7737",
        "outputId": "8ab04f92-dd94-4f78-a79d-e143ae0ae8bd"
      },
      "execution_count": 26,
      "outputs": [
        {
          "output_type": "stream",
          "name": "stdout",
          "text": [
            "Looking in indexes: https://pypi.org/simple, https://us-python.pkg.dev/colab-wheels/public/simple/\n",
            "Requirement already satisfied: baseline in /usr/local/lib/python3.8/dist-packages (1.2.1)\n",
            "Requirement already satisfied: setuptools>=39.0.1 in /usr/local/lib/python3.8/dist-packages (from baseline) (57.4.0)\n"
          ]
        }
      ]
    },
    {
      "cell_type": "code",
      "execution_count": 27,
      "metadata": {
        "id": "P5_Jc3CfCd_F"
      },
      "outputs": [],
      "source": [
        "import streamlit as st\n",
        "import pandas as pd\n",
        "import altair as alt"
      ]
    },
    {
      "cell_type": "code",
      "execution_count": 28,
      "metadata": {
        "id": "Rovvto52CgGf",
        "colab": {
          "base_uri": "https://localhost:8080/",
          "height": 423
        },
        "outputId": "8f96331a-80d1-4550-fa54-0b33ff251cda"
      },
      "outputs": [
        {
          "output_type": "execute_result",
          "data": {
            "text/plain": [
              "        mark  model generation_name  year  mileage  vol_engine      fuel  \\\n",
              "0       opel  combo      gen-d-2011  2015   139568        1248    Diesel   \n",
              "1       opel  combo      gen-d-2011  2018    31991        1499    Diesel   \n",
              "2       opel  combo      gen-d-2011  2015   278437        1598    Diesel   \n",
              "3       opel  combo      gen-d-2011  2016    47600        1248    Diesel   \n",
              "4       opel  combo      gen-d-2011  2014   103000        1400       CNG   \n",
              "..       ...    ...             ...   ...      ...         ...       ...   \n",
              "145  peugeot    206             NaN  2003   195250        1360  Gasoline   \n",
              "146  peugeot    206             NaN  2005   172300        1360  Gasoline   \n",
              "147  peugeot    206             NaN  2005   150000        1360  Gasoline   \n",
              "148  peugeot    206             NaN  1999    91000        1360  Gasoline   \n",
              "149  peugeot    206             NaN  2003   186000        1360  Gasoline   \n",
              "\n",
              "                city            province  price  \n",
              "0              Janki         Mazowieckie  35900  \n",
              "1           Katowice             Śląskie  78501  \n",
              "2              Brzeg            Opolskie  27000  \n",
              "3          Korfantów            Opolskie  30800  \n",
              "4    Tarnowskie Góry             Śląskie  35900  \n",
              "..               ...                 ...    ...  \n",
              "145            Widok         Mazowieckie   5999  \n",
              "146        Grudziądz  Kujawsko-pomorskie   7999  \n",
              "147           Poręba             Śląskie   7800  \n",
              "148            Opole            Opolskie   2200  \n",
              "149           Słupca       Wielkopolskie   4700  \n",
              "\n",
              "[150 rows x 10 columns]"
            ],
            "text/html": [
              "\n",
              "  <div id=\"df-6940441d-8377-472b-b398-5799cdf3f81c\">\n",
              "    <div class=\"colab-df-container\">\n",
              "      <div>\n",
              "<style scoped>\n",
              "    .dataframe tbody tr th:only-of-type {\n",
              "        vertical-align: middle;\n",
              "    }\n",
              "\n",
              "    .dataframe tbody tr th {\n",
              "        vertical-align: top;\n",
              "    }\n",
              "\n",
              "    .dataframe thead th {\n",
              "        text-align: right;\n",
              "    }\n",
              "</style>\n",
              "<table border=\"1\" class=\"dataframe\">\n",
              "  <thead>\n",
              "    <tr style=\"text-align: right;\">\n",
              "      <th></th>\n",
              "      <th>mark</th>\n",
              "      <th>model</th>\n",
              "      <th>generation_name</th>\n",
              "      <th>year</th>\n",
              "      <th>mileage</th>\n",
              "      <th>vol_engine</th>\n",
              "      <th>fuel</th>\n",
              "      <th>city</th>\n",
              "      <th>province</th>\n",
              "      <th>price</th>\n",
              "    </tr>\n",
              "  </thead>\n",
              "  <tbody>\n",
              "    <tr>\n",
              "      <th>0</th>\n",
              "      <td>opel</td>\n",
              "      <td>combo</td>\n",
              "      <td>gen-d-2011</td>\n",
              "      <td>2015</td>\n",
              "      <td>139568</td>\n",
              "      <td>1248</td>\n",
              "      <td>Diesel</td>\n",
              "      <td>Janki</td>\n",
              "      <td>Mazowieckie</td>\n",
              "      <td>35900</td>\n",
              "    </tr>\n",
              "    <tr>\n",
              "      <th>1</th>\n",
              "      <td>opel</td>\n",
              "      <td>combo</td>\n",
              "      <td>gen-d-2011</td>\n",
              "      <td>2018</td>\n",
              "      <td>31991</td>\n",
              "      <td>1499</td>\n",
              "      <td>Diesel</td>\n",
              "      <td>Katowice</td>\n",
              "      <td>Śląskie</td>\n",
              "      <td>78501</td>\n",
              "    </tr>\n",
              "    <tr>\n",
              "      <th>2</th>\n",
              "      <td>opel</td>\n",
              "      <td>combo</td>\n",
              "      <td>gen-d-2011</td>\n",
              "      <td>2015</td>\n",
              "      <td>278437</td>\n",
              "      <td>1598</td>\n",
              "      <td>Diesel</td>\n",
              "      <td>Brzeg</td>\n",
              "      <td>Opolskie</td>\n",
              "      <td>27000</td>\n",
              "    </tr>\n",
              "    <tr>\n",
              "      <th>3</th>\n",
              "      <td>opel</td>\n",
              "      <td>combo</td>\n",
              "      <td>gen-d-2011</td>\n",
              "      <td>2016</td>\n",
              "      <td>47600</td>\n",
              "      <td>1248</td>\n",
              "      <td>Diesel</td>\n",
              "      <td>Korfantów</td>\n",
              "      <td>Opolskie</td>\n",
              "      <td>30800</td>\n",
              "    </tr>\n",
              "    <tr>\n",
              "      <th>4</th>\n",
              "      <td>opel</td>\n",
              "      <td>combo</td>\n",
              "      <td>gen-d-2011</td>\n",
              "      <td>2014</td>\n",
              "      <td>103000</td>\n",
              "      <td>1400</td>\n",
              "      <td>CNG</td>\n",
              "      <td>Tarnowskie Góry</td>\n",
              "      <td>Śląskie</td>\n",
              "      <td>35900</td>\n",
              "    </tr>\n",
              "    <tr>\n",
              "      <th>...</th>\n",
              "      <td>...</td>\n",
              "      <td>...</td>\n",
              "      <td>...</td>\n",
              "      <td>...</td>\n",
              "      <td>...</td>\n",
              "      <td>...</td>\n",
              "      <td>...</td>\n",
              "      <td>...</td>\n",
              "      <td>...</td>\n",
              "      <td>...</td>\n",
              "    </tr>\n",
              "    <tr>\n",
              "      <th>145</th>\n",
              "      <td>peugeot</td>\n",
              "      <td>206</td>\n",
              "      <td>NaN</td>\n",
              "      <td>2003</td>\n",
              "      <td>195250</td>\n",
              "      <td>1360</td>\n",
              "      <td>Gasoline</td>\n",
              "      <td>Widok</td>\n",
              "      <td>Mazowieckie</td>\n",
              "      <td>5999</td>\n",
              "    </tr>\n",
              "    <tr>\n",
              "      <th>146</th>\n",
              "      <td>peugeot</td>\n",
              "      <td>206</td>\n",
              "      <td>NaN</td>\n",
              "      <td>2005</td>\n",
              "      <td>172300</td>\n",
              "      <td>1360</td>\n",
              "      <td>Gasoline</td>\n",
              "      <td>Grudziądz</td>\n",
              "      <td>Kujawsko-pomorskie</td>\n",
              "      <td>7999</td>\n",
              "    </tr>\n",
              "    <tr>\n",
              "      <th>147</th>\n",
              "      <td>peugeot</td>\n",
              "      <td>206</td>\n",
              "      <td>NaN</td>\n",
              "      <td>2005</td>\n",
              "      <td>150000</td>\n",
              "      <td>1360</td>\n",
              "      <td>Gasoline</td>\n",
              "      <td>Poręba</td>\n",
              "      <td>Śląskie</td>\n",
              "      <td>7800</td>\n",
              "    </tr>\n",
              "    <tr>\n",
              "      <th>148</th>\n",
              "      <td>peugeot</td>\n",
              "      <td>206</td>\n",
              "      <td>NaN</td>\n",
              "      <td>1999</td>\n",
              "      <td>91000</td>\n",
              "      <td>1360</td>\n",
              "      <td>Gasoline</td>\n",
              "      <td>Opole</td>\n",
              "      <td>Opolskie</td>\n",
              "      <td>2200</td>\n",
              "    </tr>\n",
              "    <tr>\n",
              "      <th>149</th>\n",
              "      <td>peugeot</td>\n",
              "      <td>206</td>\n",
              "      <td>NaN</td>\n",
              "      <td>2003</td>\n",
              "      <td>186000</td>\n",
              "      <td>1360</td>\n",
              "      <td>Gasoline</td>\n",
              "      <td>Słupca</td>\n",
              "      <td>Wielkopolskie</td>\n",
              "      <td>4700</td>\n",
              "    </tr>\n",
              "  </tbody>\n",
              "</table>\n",
              "<p>150 rows × 10 columns</p>\n",
              "</div>\n",
              "      <button class=\"colab-df-convert\" onclick=\"convertToInteractive('df-6940441d-8377-472b-b398-5799cdf3f81c')\"\n",
              "              title=\"Convert this dataframe to an interactive table.\"\n",
              "              style=\"display:none;\">\n",
              "        \n",
              "  <svg xmlns=\"http://www.w3.org/2000/svg\" height=\"24px\"viewBox=\"0 0 24 24\"\n",
              "       width=\"24px\">\n",
              "    <path d=\"M0 0h24v24H0V0z\" fill=\"none\"/>\n",
              "    <path d=\"M18.56 5.44l.94 2.06.94-2.06 2.06-.94-2.06-.94-.94-2.06-.94 2.06-2.06.94zm-11 1L8.5 8.5l.94-2.06 2.06-.94-2.06-.94L8.5 2.5l-.94 2.06-2.06.94zm10 10l.94 2.06.94-2.06 2.06-.94-2.06-.94-.94-2.06-.94 2.06-2.06.94z\"/><path d=\"M17.41 7.96l-1.37-1.37c-.4-.4-.92-.59-1.43-.59-.52 0-1.04.2-1.43.59L10.3 9.45l-7.72 7.72c-.78.78-.78 2.05 0 2.83L4 21.41c.39.39.9.59 1.41.59.51 0 1.02-.2 1.41-.59l7.78-7.78 2.81-2.81c.8-.78.8-2.07 0-2.86zM5.41 20L4 18.59l7.72-7.72 1.47 1.35L5.41 20z\"/>\n",
              "  </svg>\n",
              "      </button>\n",
              "      \n",
              "  <style>\n",
              "    .colab-df-container {\n",
              "      display:flex;\n",
              "      flex-wrap:wrap;\n",
              "      gap: 12px;\n",
              "    }\n",
              "\n",
              "    .colab-df-convert {\n",
              "      background-color: #E8F0FE;\n",
              "      border: none;\n",
              "      border-radius: 50%;\n",
              "      cursor: pointer;\n",
              "      display: none;\n",
              "      fill: #1967D2;\n",
              "      height: 32px;\n",
              "      padding: 0 0 0 0;\n",
              "      width: 32px;\n",
              "    }\n",
              "\n",
              "    .colab-df-convert:hover {\n",
              "      background-color: #E2EBFA;\n",
              "      box-shadow: 0px 1px 2px rgba(60, 64, 67, 0.3), 0px 1px 3px 1px rgba(60, 64, 67, 0.15);\n",
              "      fill: #174EA6;\n",
              "    }\n",
              "\n",
              "    [theme=dark] .colab-df-convert {\n",
              "      background-color: #3B4455;\n",
              "      fill: #D2E3FC;\n",
              "    }\n",
              "\n",
              "    [theme=dark] .colab-df-convert:hover {\n",
              "      background-color: #434B5C;\n",
              "      box-shadow: 0px 1px 3px 1px rgba(0, 0, 0, 0.15);\n",
              "      filter: drop-shadow(0px 1px 2px rgba(0, 0, 0, 0.3));\n",
              "      fill: #FFFFFF;\n",
              "    }\n",
              "  </style>\n",
              "\n",
              "      <script>\n",
              "        const buttonEl =\n",
              "          document.querySelector('#df-6940441d-8377-472b-b398-5799cdf3f81c button.colab-df-convert');\n",
              "        buttonEl.style.display =\n",
              "          google.colab.kernel.accessAllowed ? 'block' : 'none';\n",
              "\n",
              "        async function convertToInteractive(key) {\n",
              "          const element = document.querySelector('#df-6940441d-8377-472b-b398-5799cdf3f81c');\n",
              "          const dataTable =\n",
              "            await google.colab.kernel.invokeFunction('convertToInteractive',\n",
              "                                                     [key], {});\n",
              "          if (!dataTable) return;\n",
              "\n",
              "          const docLinkHtml = 'Like what you see? Visit the ' +\n",
              "            '<a target=\"_blank\" href=https://colab.research.google.com/notebooks/data_table.ipynb>data table notebook</a>'\n",
              "            + ' to learn more about interactive tables.';\n",
              "          element.innerHTML = '';\n",
              "          dataTable['output_type'] = 'display_data';\n",
              "          await google.colab.output.renderOutput(dataTable, element);\n",
              "          const docLink = document.createElement('div');\n",
              "          docLink.innerHTML = docLinkHtml;\n",
              "          element.appendChild(docLink);\n",
              "        }\n",
              "      </script>\n",
              "    </div>\n",
              "  </div>\n",
              "  "
            ]
          },
          "metadata": {},
          "execution_count": 28
        }
      ],
      "source": [
        "pd.read_csv('Car_Prices_Poland.csv')"
      ]
    },
    {
      "cell_type": "code",
      "execution_count": 29,
      "metadata": {
        "id": "XdaiRicACqFa",
        "colab": {
          "base_uri": "https://localhost:8080/",
          "height": 423
        },
        "outputId": "da96a684-3587-4edb-f7b6-e0c575f25358"
      },
      "outputs": [
        {
          "output_type": "execute_result",
          "data": {
            "text/plain": [
              "        mark  model generation_name  year  mileage  vol_engine      fuel  \\\n",
              "0       opel  combo      gen-d-2011  2015   139568        1248    Diesel   \n",
              "1       opel  combo      gen-d-2011  2018    31991        1499    Diesel   \n",
              "2       opel  combo      gen-d-2011  2015   278437        1598    Diesel   \n",
              "3       opel  combo      gen-d-2011  2016    47600        1248    Diesel   \n",
              "4       opel  combo      gen-d-2011  2014   103000        1400       CNG   \n",
              "..       ...    ...             ...   ...      ...         ...       ...   \n",
              "145  peugeot    206             NaN  2003   195250        1360  Gasoline   \n",
              "146  peugeot    206             NaN  2005   172300        1360  Gasoline   \n",
              "147  peugeot    206             NaN  2005   150000        1360  Gasoline   \n",
              "148  peugeot    206             NaN  1999    91000        1360  Gasoline   \n",
              "149  peugeot    206             NaN  2003   186000        1360  Gasoline   \n",
              "\n",
              "                city            province  price  \n",
              "0              Janki         Mazowieckie  35900  \n",
              "1           Katowice             Śląskie  78501  \n",
              "2              Brzeg            Opolskie  27000  \n",
              "3          Korfantów            Opolskie  30800  \n",
              "4    Tarnowskie Góry             Śląskie  35900  \n",
              "..               ...                 ...    ...  \n",
              "145            Widok         Mazowieckie   5999  \n",
              "146        Grudziądz  Kujawsko-pomorskie   7999  \n",
              "147           Poręba             Śląskie   7800  \n",
              "148            Opole            Opolskie   2200  \n",
              "149           Słupca       Wielkopolskie   4700  \n",
              "\n",
              "[150 rows x 10 columns]"
            ],
            "text/html": [
              "\n",
              "  <div id=\"df-4cc25fb4-f358-42f0-a1a6-f238c7982c86\">\n",
              "    <div class=\"colab-df-container\">\n",
              "      <div>\n",
              "<style scoped>\n",
              "    .dataframe tbody tr th:only-of-type {\n",
              "        vertical-align: middle;\n",
              "    }\n",
              "\n",
              "    .dataframe tbody tr th {\n",
              "        vertical-align: top;\n",
              "    }\n",
              "\n",
              "    .dataframe thead th {\n",
              "        text-align: right;\n",
              "    }\n",
              "</style>\n",
              "<table border=\"1\" class=\"dataframe\">\n",
              "  <thead>\n",
              "    <tr style=\"text-align: right;\">\n",
              "      <th></th>\n",
              "      <th>mark</th>\n",
              "      <th>model</th>\n",
              "      <th>generation_name</th>\n",
              "      <th>year</th>\n",
              "      <th>mileage</th>\n",
              "      <th>vol_engine</th>\n",
              "      <th>fuel</th>\n",
              "      <th>city</th>\n",
              "      <th>province</th>\n",
              "      <th>price</th>\n",
              "    </tr>\n",
              "  </thead>\n",
              "  <tbody>\n",
              "    <tr>\n",
              "      <th>0</th>\n",
              "      <td>opel</td>\n",
              "      <td>combo</td>\n",
              "      <td>gen-d-2011</td>\n",
              "      <td>2015</td>\n",
              "      <td>139568</td>\n",
              "      <td>1248</td>\n",
              "      <td>Diesel</td>\n",
              "      <td>Janki</td>\n",
              "      <td>Mazowieckie</td>\n",
              "      <td>35900</td>\n",
              "    </tr>\n",
              "    <tr>\n",
              "      <th>1</th>\n",
              "      <td>opel</td>\n",
              "      <td>combo</td>\n",
              "      <td>gen-d-2011</td>\n",
              "      <td>2018</td>\n",
              "      <td>31991</td>\n",
              "      <td>1499</td>\n",
              "      <td>Diesel</td>\n",
              "      <td>Katowice</td>\n",
              "      <td>Śląskie</td>\n",
              "      <td>78501</td>\n",
              "    </tr>\n",
              "    <tr>\n",
              "      <th>2</th>\n",
              "      <td>opel</td>\n",
              "      <td>combo</td>\n",
              "      <td>gen-d-2011</td>\n",
              "      <td>2015</td>\n",
              "      <td>278437</td>\n",
              "      <td>1598</td>\n",
              "      <td>Diesel</td>\n",
              "      <td>Brzeg</td>\n",
              "      <td>Opolskie</td>\n",
              "      <td>27000</td>\n",
              "    </tr>\n",
              "    <tr>\n",
              "      <th>3</th>\n",
              "      <td>opel</td>\n",
              "      <td>combo</td>\n",
              "      <td>gen-d-2011</td>\n",
              "      <td>2016</td>\n",
              "      <td>47600</td>\n",
              "      <td>1248</td>\n",
              "      <td>Diesel</td>\n",
              "      <td>Korfantów</td>\n",
              "      <td>Opolskie</td>\n",
              "      <td>30800</td>\n",
              "    </tr>\n",
              "    <tr>\n",
              "      <th>4</th>\n",
              "      <td>opel</td>\n",
              "      <td>combo</td>\n",
              "      <td>gen-d-2011</td>\n",
              "      <td>2014</td>\n",
              "      <td>103000</td>\n",
              "      <td>1400</td>\n",
              "      <td>CNG</td>\n",
              "      <td>Tarnowskie Góry</td>\n",
              "      <td>Śląskie</td>\n",
              "      <td>35900</td>\n",
              "    </tr>\n",
              "    <tr>\n",
              "      <th>...</th>\n",
              "      <td>...</td>\n",
              "      <td>...</td>\n",
              "      <td>...</td>\n",
              "      <td>...</td>\n",
              "      <td>...</td>\n",
              "      <td>...</td>\n",
              "      <td>...</td>\n",
              "      <td>...</td>\n",
              "      <td>...</td>\n",
              "      <td>...</td>\n",
              "    </tr>\n",
              "    <tr>\n",
              "      <th>145</th>\n",
              "      <td>peugeot</td>\n",
              "      <td>206</td>\n",
              "      <td>NaN</td>\n",
              "      <td>2003</td>\n",
              "      <td>195250</td>\n",
              "      <td>1360</td>\n",
              "      <td>Gasoline</td>\n",
              "      <td>Widok</td>\n",
              "      <td>Mazowieckie</td>\n",
              "      <td>5999</td>\n",
              "    </tr>\n",
              "    <tr>\n",
              "      <th>146</th>\n",
              "      <td>peugeot</td>\n",
              "      <td>206</td>\n",
              "      <td>NaN</td>\n",
              "      <td>2005</td>\n",
              "      <td>172300</td>\n",
              "      <td>1360</td>\n",
              "      <td>Gasoline</td>\n",
              "      <td>Grudziądz</td>\n",
              "      <td>Kujawsko-pomorskie</td>\n",
              "      <td>7999</td>\n",
              "    </tr>\n",
              "    <tr>\n",
              "      <th>147</th>\n",
              "      <td>peugeot</td>\n",
              "      <td>206</td>\n",
              "      <td>NaN</td>\n",
              "      <td>2005</td>\n",
              "      <td>150000</td>\n",
              "      <td>1360</td>\n",
              "      <td>Gasoline</td>\n",
              "      <td>Poręba</td>\n",
              "      <td>Śląskie</td>\n",
              "      <td>7800</td>\n",
              "    </tr>\n",
              "    <tr>\n",
              "      <th>148</th>\n",
              "      <td>peugeot</td>\n",
              "      <td>206</td>\n",
              "      <td>NaN</td>\n",
              "      <td>1999</td>\n",
              "      <td>91000</td>\n",
              "      <td>1360</td>\n",
              "      <td>Gasoline</td>\n",
              "      <td>Opole</td>\n",
              "      <td>Opolskie</td>\n",
              "      <td>2200</td>\n",
              "    </tr>\n",
              "    <tr>\n",
              "      <th>149</th>\n",
              "      <td>peugeot</td>\n",
              "      <td>206</td>\n",
              "      <td>NaN</td>\n",
              "      <td>2003</td>\n",
              "      <td>186000</td>\n",
              "      <td>1360</td>\n",
              "      <td>Gasoline</td>\n",
              "      <td>Słupca</td>\n",
              "      <td>Wielkopolskie</td>\n",
              "      <td>4700</td>\n",
              "    </tr>\n",
              "  </tbody>\n",
              "</table>\n",
              "<p>150 rows × 10 columns</p>\n",
              "</div>\n",
              "      <button class=\"colab-df-convert\" onclick=\"convertToInteractive('df-4cc25fb4-f358-42f0-a1a6-f238c7982c86')\"\n",
              "              title=\"Convert this dataframe to an interactive table.\"\n",
              "              style=\"display:none;\">\n",
              "        \n",
              "  <svg xmlns=\"http://www.w3.org/2000/svg\" height=\"24px\"viewBox=\"0 0 24 24\"\n",
              "       width=\"24px\">\n",
              "    <path d=\"M0 0h24v24H0V0z\" fill=\"none\"/>\n",
              "    <path d=\"M18.56 5.44l.94 2.06.94-2.06 2.06-.94-2.06-.94-.94-2.06-.94 2.06-2.06.94zm-11 1L8.5 8.5l.94-2.06 2.06-.94-2.06-.94L8.5 2.5l-.94 2.06-2.06.94zm10 10l.94 2.06.94-2.06 2.06-.94-2.06-.94-.94-2.06-.94 2.06-2.06.94z\"/><path d=\"M17.41 7.96l-1.37-1.37c-.4-.4-.92-.59-1.43-.59-.52 0-1.04.2-1.43.59L10.3 9.45l-7.72 7.72c-.78.78-.78 2.05 0 2.83L4 21.41c.39.39.9.59 1.41.59.51 0 1.02-.2 1.41-.59l7.78-7.78 2.81-2.81c.8-.78.8-2.07 0-2.86zM5.41 20L4 18.59l7.72-7.72 1.47 1.35L5.41 20z\"/>\n",
              "  </svg>\n",
              "      </button>\n",
              "      \n",
              "  <style>\n",
              "    .colab-df-container {\n",
              "      display:flex;\n",
              "      flex-wrap:wrap;\n",
              "      gap: 12px;\n",
              "    }\n",
              "\n",
              "    .colab-df-convert {\n",
              "      background-color: #E8F0FE;\n",
              "      border: none;\n",
              "      border-radius: 50%;\n",
              "      cursor: pointer;\n",
              "      display: none;\n",
              "      fill: #1967D2;\n",
              "      height: 32px;\n",
              "      padding: 0 0 0 0;\n",
              "      width: 32px;\n",
              "    }\n",
              "\n",
              "    .colab-df-convert:hover {\n",
              "      background-color: #E2EBFA;\n",
              "      box-shadow: 0px 1px 2px rgba(60, 64, 67, 0.3), 0px 1px 3px 1px rgba(60, 64, 67, 0.15);\n",
              "      fill: #174EA6;\n",
              "    }\n",
              "\n",
              "    [theme=dark] .colab-df-convert {\n",
              "      background-color: #3B4455;\n",
              "      fill: #D2E3FC;\n",
              "    }\n",
              "\n",
              "    [theme=dark] .colab-df-convert:hover {\n",
              "      background-color: #434B5C;\n",
              "      box-shadow: 0px 1px 3px 1px rgba(0, 0, 0, 0.15);\n",
              "      filter: drop-shadow(0px 1px 2px rgba(0, 0, 0, 0.3));\n",
              "      fill: #FFFFFF;\n",
              "    }\n",
              "  </style>\n",
              "\n",
              "      <script>\n",
              "        const buttonEl =\n",
              "          document.querySelector('#df-4cc25fb4-f358-42f0-a1a6-f238c7982c86 button.colab-df-convert');\n",
              "        buttonEl.style.display =\n",
              "          google.colab.kernel.accessAllowed ? 'block' : 'none';\n",
              "\n",
              "        async function convertToInteractive(key) {\n",
              "          const element = document.querySelector('#df-4cc25fb4-f358-42f0-a1a6-f238c7982c86');\n",
              "          const dataTable =\n",
              "            await google.colab.kernel.invokeFunction('convertToInteractive',\n",
              "                                                     [key], {});\n",
              "          if (!dataTable) return;\n",
              "\n",
              "          const docLinkHtml = 'Like what you see? Visit the ' +\n",
              "            '<a target=\"_blank\" href=https://colab.research.google.com/notebooks/data_table.ipynb>data table notebook</a>'\n",
              "            + ' to learn more about interactive tables.';\n",
              "          element.innerHTML = '';\n",
              "          dataTable['output_type'] = 'display_data';\n",
              "          await google.colab.output.renderOutput(dataTable, element);\n",
              "          const docLink = document.createElement('div');\n",
              "          docLink.innerHTML = docLinkHtml;\n",
              "          element.appendChild(docLink);\n",
              "        }\n",
              "      </script>\n",
              "    </div>\n",
              "  </div>\n",
              "  "
            ]
          },
          "metadata": {},
          "execution_count": 29
        }
      ],
      "source": [
        "car = pd.read_csv('Car_Prices_Poland.csv')\n",
        "car"
      ]
    },
    {
      "cell_type": "code",
      "source": [
        "car.info()"
      ],
      "metadata": {
        "id": "zjOw_NDuxOVj",
        "colab": {
          "base_uri": "https://localhost:8080/"
        },
        "outputId": "3117462e-8f8d-4620-958f-7761d9b17de4"
      },
      "execution_count": 30,
      "outputs": [
        {
          "output_type": "stream",
          "name": "stdout",
          "text": [
            "<class 'pandas.core.frame.DataFrame'>\n",
            "RangeIndex: 150 entries, 0 to 149\n",
            "Data columns (total 10 columns):\n",
            " #   Column           Non-Null Count  Dtype \n",
            "---  ------           --------------  ----- \n",
            " 0   mark             150 non-null    object\n",
            " 1   model            150 non-null    object\n",
            " 2   generation_name  122 non-null    object\n",
            " 3   year             150 non-null    int64 \n",
            " 4   mileage          150 non-null    int64 \n",
            " 5   vol_engine       150 non-null    int64 \n",
            " 6   fuel             150 non-null    object\n",
            " 7   city             150 non-null    object\n",
            " 8   province         150 non-null    object\n",
            " 9   price            150 non-null    int64 \n",
            "dtypes: int64(4), object(6)\n",
            "memory usage: 11.8+ KB\n"
          ]
        }
      ]
    },
    {
      "cell_type": "code",
      "execution_count": 31,
      "metadata": {
        "id": "lpCJ_NXGC3H8"
      },
      "outputs": [],
      "source": [
        "st.title('Car Prices Poland')\n",
        "carname = st.selectbox(\"Select your car\",car['mark'].unique())\n",
        "st.write(carname)"
      ]
    },
    {
      "cell_type": "code",
      "execution_count": 34,
      "metadata": {
        "id": "Ejgp-O-nLKOI",
        "colab": {
          "base_uri": "https://localhost:8080/"
        },
        "outputId": "f4f8ea2d-4448-4e2b-dbf3-d6687df5b8e9"
      },
      "outputs": [
        {
          "output_type": "stream",
          "name": "stdout",
          "text": [
            "Overwriting home.py\n"
          ]
        }
      ],
      "source": [
        "%%writefile home.py\n",
        "\n",
        "import streamlit as st\n",
        "import pandas as pd\n",
        "import altair as alt\n",
        "import numpy as np\n",
        "import matplotlib.pyplot as plt\n",
        "import seaborn as sns\n",
        "from IPython.display import Markdown\n",
        "\n",
        "car = pd.read_csv('Car_Prices_Poland.csv')\n",
        "\n",
        "st.title('Car Prices Poland :car:')\n",
        "st.header(' Background of the Dataset ')\n",
        "st.header('The dataset contains information about the make, model, generation, year of production, mileage, engine type and volume, localization and price')\n"
      ]
    },
    {
      "cell_type": "code",
      "execution_count": 35,
      "metadata": {
        "id": "D7LarSwcNmb1",
        "colab": {
          "base_uri": "https://localhost:8080/"
        },
        "outputId": "b8c5faa6-99f9-4cbf-98c8-b8add165be65"
      },
      "outputs": [
        {
          "output_type": "stream",
          "name": "stdout",
          "text": [
            "\u001b[K\u001b[?25hnpx: installed 22 in 3.407s\n",
            "your url is: https://few-bats-design-35-196-171-220.loca.lt\n",
            "^C\n"
          ]
        }
      ],
      "source": [
        "!streamlit run content\\home.py &>/dev/null&\n",
        "!npx localtunnel --port 8501"
      ]
    },
    {
      "cell_type": "code",
      "execution_count": 36,
      "metadata": {
        "id": "USHrWnIAdfK1",
        "colab": {
          "base_uri": "https://localhost:8080/"
        },
        "outputId": "f149b43f-cfc3-4ce6-aadc-545280572a99"
      },
      "outputs": [
        {
          "output_type": "stream",
          "name": "stdout",
          "text": [
            "Overwriting p1.py\n"
          ]
        }
      ],
      "source": [
        "%%writefile p1.py\n",
        "import streamlit as st\n",
        "import pandas as pd\n",
        "import altair as alt\n",
        "from IPython.display import Markdown\n",
        "import baseline as base\n",
        "import matplotlib.pyplot as plt\n",
        "import seaborn as sns\n",
        "\n",
        "st.title('Car Prices in Poland 🚗')\n",
        "st.markdown(\n",
        "    '<h1 style=\"color: maroon; font-size: 20px;\">welcome to page 2</h1>',\n",
        "    unsafe_allow_html=True\n",
        ")\n",
        "\n",
        "\n",
        "car = pd.read_csv('Car_Prices_Poland.csv')\n",
        "carname = st.selectbox(\"Select your car\",car['mark'].unique())\n",
        "st.write(carname)\n",
        "plot_type=st.radio(\"select the plot type\",['scatter','line','bar','slope','Natural Disasters','Donut Chart'])\n",
        "if plot_type == 'scatter':\n",
        "  pl = alt.Chart(car[car['mark']==carname]).mark_circle().encode(\n",
        "    x = 'vol_engine',\n",
        "    y ='price',\n",
        "    tooltip = ['vol_engine','price']\n",
        ").interactive()\n",
        "elif plot_type == 'line':\n",
        "  pl = alt.Chart(car[car['mark']==carname]).mark_line().encode(\n",
        "    x = 'vol_engine',\n",
        "    y ='price',\n",
        "    color = 'fuel',\n",
        "    tooltip = ['vol_engine','price']\n",
        ").interactive()\n",
        "elif plot_type == 'bar':\n",
        "   pl = alt.Chart(car[car['mark']==carname]).mark_bar(opacity=0.7).encode(\n",
        "    x='year:O',\n",
        "    y=alt.Y('price:Q', stack=None),\n",
        "    color=\"city\",\n",
        ").interactive()\n",
        "elif plot_type == 'slope':\n",
        "   pl = alt.Chart(car).mark_line().encode(\n",
        "    x='year:O',\n",
        "    y='mark',\n",
        "    color='city'\n",
        ").interactive()\n",
        "elif plot_type == 'Natural Disasters':\n",
        "  pl = alt.Chart(car[car['mark']==carname]).mark_circle(\n",
        "    opacity=0.8,\n",
        "    stroke='black',\n",
        "    strokeWidth=1\n",
        ").encode(\n",
        "    alt.X('price:O', axis=alt.Axis(labelAngle=0)),\n",
        "    alt.Y('city:N'),\n",
        "    alt.Size('mileage:Q',\n",
        "        scale=alt.Scale(range=[0, 4000]),\n",
        "        legend=alt.Legend(title='Car Prices Poland')\n",
        "    ),\n",
        "    alt.Color('city:N', legend=None)\n",
        ").properties(\n",
        "    width=450,\n",
        "    height=320\n",
        ").transform_filter(\n",
        "    alt.datum.Entity != 'All natural disasters'\n",
        ").interactive()\n",
        "else:\n",
        " pl = alt.Chart(car[car['mark']==carname]).mark_arc(innerRadius=50).encode(\n",
        "    theta=alt.Theta(field=\"year\", type=\"quantitative\"),\n",
        "    color=alt.Color(field=\"city\", type=\"nominal\"),\n",
        ").interactive()\n",
        "\n",
        "st.altair_chart(pl)"
      ]
    },
    {
      "cell_type": "code",
      "execution_count": 37,
      "metadata": {
        "id": "mL-njdqsdrJt",
        "colab": {
          "base_uri": "https://localhost:8080/"
        },
        "outputId": "0a0bf4b3-3041-4399-b27c-05f89d90dfd6"
      },
      "outputs": [
        {
          "output_type": "stream",
          "name": "stdout",
          "text": [
            "\u001b[K\u001b[?25hnpx: installed 22 in 2.547s\n",
            "your url is: https://fair-doors-cough-35-196-171-220.loca.lt\n",
            "^C\n"
          ]
        }
      ],
      "source": [
        "!streamlit run p1.py &>/dev/null&\n",
        "!npx localtunnel --port 8501"
      ]
    },
    {
      "cell_type": "code",
      "source": [
        "%%writefile p2.py\n",
        "\n",
        "import matplotlib.pyplot as plt\n",
        "import pandas as pd\n",
        "from matplotlib.font_manager import FontProperties\n",
        "\n",
        "\n",
        "car = pd.read_csv('Car_Prices_Poland.csv')\n",
        "plt.bar(car['year'], car['mileage'])\n",
        "font = FontProperties(fname='pages/fonts/NotoEmoji-Regular.ttf')\n",
        "plt.text(2015, 500, '🚗', fontproperties=font,color='red',fontsize=50)\n",
        "plt.show()"
      ],
      "metadata": {
        "id": "huQjkxGTSOui",
        "colab": {
          "base_uri": "https://localhost:8080/"
        },
        "outputId": "ac9c7044-0be5-461f-e19a-130e97df37a8"
      },
      "execution_count": 12,
      "outputs": [
        {
          "output_type": "stream",
          "name": "stdout",
          "text": [
            "Writing p2.py\n"
          ]
        }
      ]
    },
    {
      "cell_type": "code",
      "source": [
        "!streamlit run p2.py &>/dev/null&\n",
        "!npx localtunnel --port 8501"
      ],
      "metadata": {
        "colab": {
          "base_uri": "https://localhost:8080/"
        },
        "id": "AiQDvf_iC6Tq",
        "outputId": "e47ebfe2-a7fa-4bcd-e55c-66fca398a319"
      },
      "execution_count": null,
      "outputs": [
        {
          "output_type": "stream",
          "name": "stdout",
          "text": [
            "\u001b[K\u001b[?25hnpx: installed 22 in 3.423s\n",
            "your url is: https://free-trees-brake-35-227-168-22.loca.lt\n",
            "^C\n"
          ]
        }
      ]
    },
    {
      "cell_type": "code",
      "source": [
        "%%writefile p3.py\n",
        "import streamlit as st\n",
        "import matplotlib.pyplot as plt\n",
        "import pandas as pd\n",
        "\n",
        "# Load the data\n",
        "data = pd.read_csv('Car_Prices_Poland.csv')\n",
        "\n",
        "# Create a figure object\n",
        "fig = plt.figure()\n",
        "\n",
        "st.title('Car Prices in Poland 🚗')\n",
        "st.markdown(\n",
        "    '<h1 style=\"color: #000080; font-size: 20px;\">Select this option to show only Hybrid cars in the chart</h1>',\n",
        "    unsafe_allow_html=True\n",
        ")\n",
        "# Add a plot to the figure\n",
        "plt.plot(data['year'], data['price'])\n",
        "\n",
        "# Create a check box\n",
        "checkbox = st.checkbox('Show Only Electric Cars')\n",
        "\n",
        "# Define a function to filter the data based on the check box value\n",
        "def filter_data():\n",
        "    if checkbox:\n",
        "        # Show only electric cars\n",
        "        data_filtered = data[data['fuel'] == 'Hybrid']\n",
        "    else:\n",
        "        # Show all cars\n",
        "        data_filtered = data\n",
        "    \n",
        "    # Update the plot with the filtered data\n",
        "    plt.cla()\n",
        "    plt.plt(data_filtered['year'], data_filtered['price'])\n",
        "    \n",
        "\n",
        "# Call the function to filter and update the plot when the check box value changes\n",
        "if checkbox:\n",
        "    filter_data()\n",
        "\n",
        "# Display the plot\n",
        "st.pyplot(fig)\n"
      ],
      "metadata": {
        "id": "t6hOQioxiXkx",
        "colab": {
          "base_uri": "https://localhost:8080/"
        },
        "outputId": "5fc1b572-ec0d-4a8c-b782-1ffcaafb14c1"
      },
      "execution_count": 13,
      "outputs": [
        {
          "output_type": "stream",
          "name": "stdout",
          "text": [
            "Writing p3.py\n"
          ]
        }
      ]
    },
    {
      "cell_type": "code",
      "source": [
        "!streamlit run p3.py &>/dev/null&\n",
        "!npx localtunnel --port 8501"
      ],
      "metadata": {
        "id": "YiHtMG2cW3lr"
      },
      "execution_count": null,
      "outputs": []
    },
    {
      "cell_type": "code",
      "source": [
        "%env GITHUB_USERNAME=applied-science-2022\n",
        "%env GITHUB_PASSWORD=H@a21289488\n"
      ],
      "metadata": {
        "colab": {
          "base_uri": "https://localhost:8080/"
        },
        "id": "VnbfrcAPNjPp",
        "outputId": "180bf0cf-0f60-4f40-89fc-684de9f4f1ad"
      },
      "execution_count": null,
      "outputs": [
        {
          "output_type": "stream",
          "name": "stdout",
          "text": [
            "env: GITHUB_USERNAME=applied-science-2022\n",
            "env: GITHUB_PASSWORD=H@a21289488\n"
          ]
        }
      ]
    },
    {
      "cell_type": "code",
      "source": [
        "import os\n",
        "\n",
        "username = os.environ['GITHUB_USERNAME']\n",
        "password = os.environ['GITHUB_PASSWORD']\n"
      ],
      "metadata": {
        "id": "5_A4R-GWOBky"
      },
      "execution_count": null,
      "outputs": []
    },
    {
      "cell_type": "code",
      "source": [
        "git push -v https://github.com/your_username/your_repository.git\n"
      ],
      "metadata": {
        "colab": {
          "base_uri": "https://localhost:8080/",
          "height": 131
        },
        "id": "EvLPZiCpQLwn",
        "outputId": "b2fa1ac3-f5a6-4b73-9101-1d978d1ebd41"
      },
      "execution_count": null,
      "outputs": [
        {
          "output_type": "error",
          "ename": "SyntaxError",
          "evalue": "ignored",
          "traceback": [
            "\u001b[0;36m  File \u001b[0;32m\"<ipython-input-311-2277dc32901f>\"\u001b[0;36m, line \u001b[0;32m1\u001b[0m\n\u001b[0;31m    git push -v https://github.com/your_username/your_repository.git\u001b[0m\n\u001b[0m        ^\u001b[0m\n\u001b[0;31mSyntaxError\u001b[0m\u001b[0;31m:\u001b[0m invalid syntax\n"
          ]
        }
      ]
    }
  ],
  "metadata": {
    "colab": {
      "provenance": [],
      "authorship_tag": "ABX9TyNZGmXGlgTehYqneLJ3tV7O",
      "include_colab_link": true
    },
    "kernelspec": {
      "display_name": "Python 3",
      "name": "python3"
    },
    "language_info": {
      "name": "python"
    }
  },
  "nbformat": 4,
  "nbformat_minor": 0
}